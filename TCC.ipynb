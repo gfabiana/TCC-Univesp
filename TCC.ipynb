{
  "nbformat": 4,
  "nbformat_minor": 0,
  "metadata": {
    "colab": {
      "provenance": [],
      "authorship_tag": "ABX9TyPB9BoB5CQocQtsNoUzEvfY"
    },
    "kernelspec": {
      "name": "python3",
      "display_name": "Python 3"
    },
    "language_info": {
      "name": "python"
    }
  },
  "cells": [
    {
      "cell_type": "markdown",
      "source": [
        "# Bibliotecas"
      ],
      "metadata": {
        "id": "CuDIv3cuv3hb"
      }
    },
    {
      "cell_type": "code",
      "source": [
        "import pandas as pd\n",
        "import numpy as np\n",
        "import os\n",
        "import matplotlib.pyplot as plt\n",
        "import seaborn as sns\n",
        "from scipy import stats\n",
        "import pandas as pd\n",
        "from sklearn.model_selection import train_test_split, GridSearchCV\n",
        "from sklearn.ensemble import RandomForestRegressor, GradientBoostingRegressor, VotingRegressor\n",
        "from sklearn.metrics import mean_squared_error\n",
        "from sklearn.preprocessing import StandardScaler"
      ],
      "metadata": {
        "id": "ieowzfGnwzPi"
      },
      "execution_count": 440,
      "outputs": []
    },
    {
      "cell_type": "markdown",
      "source": [
        "# Setup"
      ],
      "metadata": {
        "id": "qeqyGnSiw3oY"
      }
    },
    {
      "cell_type": "code",
      "execution_count": 441,
      "metadata": {
        "id": "Ouzo9T75vRPo"
      },
      "outputs": [],
      "source": [
        "sns.set()"
      ]
    },
    {
      "cell_type": "markdown",
      "source": [
        "# Variáveis de ambiente"
      ],
      "metadata": {
        "id": "6nRPomNlyFYA"
      }
    },
    {
      "cell_type": "code",
      "source": [
        "DATA_PATH = '../content/'"
      ],
      "metadata": {
        "id": "DThwye6_ySNe"
      },
      "execution_count": 442,
      "outputs": []
    },
    {
      "cell_type": "code",
      "source": [
        "os.listdir('../content')"
      ],
      "metadata": {
        "colab": {
          "base_uri": "https://localhost:8080/"
        },
        "id": "PsCAf6CFrQLW",
        "outputId": "8a219e53-faa8-4a89-f39c-a826e42aeaff"
      },
      "execution_count": 443,
      "outputs": [
        {
          "output_type": "execute_result",
          "data": {
            "text/plain": [
              "['.config', 'dengue-dataset.csv', 'sample_data']"
            ]
          },
          "metadata": {},
          "execution_count": 443
        }
      ]
    },
    {
      "cell_type": "markdown",
      "source": [
        "# Carregamento dos dados"
      ],
      "metadata": {
        "id": "wdmQzT2PxJwJ"
      }
    },
    {
      "cell_type": "code",
      "source": [
        "raw_df = pd.read_csv(os.path.join(DATA_PATH, 'dengue-dataset.csv'))\n",
        "df.head()"
      ],
      "metadata": {
        "colab": {
          "base_uri": "https://localhost:8080/",
          "height": 206
        },
        "id": "lMYGMVRxyxZu",
        "outputId": "9e97cc4b-8fe8-453b-8a31-b90cf52eca72"
      },
      "execution_count": 444,
      "outputs": [
        {
          "output_type": "execute_result",
          "data": {
            "text/plain": [
              "   casos-confirmados  chuva  temperatura-media  temperatura-mininima  \\\n",
              "0                237  179.2               25.7                  20.2   \n",
              "1                331  226.3               25.1                  20.0   \n",
              "2                562  149.1               24.8                  22.4   \n",
              "3                187   46.4               22.7                  18.1   \n",
              "4                 32   88.3               19.2                  15.7   \n",
              "\n",
              "   temperatura-maxima  mes   ano  dia  \n",
              "0                28.1    1  1998    1  \n",
              "1                28.0    2  1998    1  \n",
              "2                27.2    3  1998    1  \n",
              "3                26.0    4  1998    1  \n",
              "4                22.9    5  1998    1  "
            ],
            "text/html": [
              "\n",
              "  <div id=\"df-13af5335-aece-401d-a1bf-2e43b5ba4385\" class=\"colab-df-container\">\n",
              "    <div>\n",
              "<style scoped>\n",
              "    .dataframe tbody tr th:only-of-type {\n",
              "        vertical-align: middle;\n",
              "    }\n",
              "\n",
              "    .dataframe tbody tr th {\n",
              "        vertical-align: top;\n",
              "    }\n",
              "\n",
              "    .dataframe thead th {\n",
              "        text-align: right;\n",
              "    }\n",
              "</style>\n",
              "<table border=\"1\" class=\"dataframe\">\n",
              "  <thead>\n",
              "    <tr style=\"text-align: right;\">\n",
              "      <th></th>\n",
              "      <th>casos-confirmados</th>\n",
              "      <th>chuva</th>\n",
              "      <th>temperatura-media</th>\n",
              "      <th>temperatura-mininima</th>\n",
              "      <th>temperatura-maxima</th>\n",
              "      <th>mes</th>\n",
              "      <th>ano</th>\n",
              "      <th>dia</th>\n",
              "    </tr>\n",
              "  </thead>\n",
              "  <tbody>\n",
              "    <tr>\n",
              "      <th>0</th>\n",
              "      <td>237</td>\n",
              "      <td>179.2</td>\n",
              "      <td>25.7</td>\n",
              "      <td>20.2</td>\n",
              "      <td>28.1</td>\n",
              "      <td>1</td>\n",
              "      <td>1998</td>\n",
              "      <td>1</td>\n",
              "    </tr>\n",
              "    <tr>\n",
              "      <th>1</th>\n",
              "      <td>331</td>\n",
              "      <td>226.3</td>\n",
              "      <td>25.1</td>\n",
              "      <td>20.0</td>\n",
              "      <td>28.0</td>\n",
              "      <td>2</td>\n",
              "      <td>1998</td>\n",
              "      <td>1</td>\n",
              "    </tr>\n",
              "    <tr>\n",
              "      <th>2</th>\n",
              "      <td>562</td>\n",
              "      <td>149.1</td>\n",
              "      <td>24.8</td>\n",
              "      <td>22.4</td>\n",
              "      <td>27.2</td>\n",
              "      <td>3</td>\n",
              "      <td>1998</td>\n",
              "      <td>1</td>\n",
              "    </tr>\n",
              "    <tr>\n",
              "      <th>3</th>\n",
              "      <td>187</td>\n",
              "      <td>46.4</td>\n",
              "      <td>22.7</td>\n",
              "      <td>18.1</td>\n",
              "      <td>26.0</td>\n",
              "      <td>4</td>\n",
              "      <td>1998</td>\n",
              "      <td>1</td>\n",
              "    </tr>\n",
              "    <tr>\n",
              "      <th>4</th>\n",
              "      <td>32</td>\n",
              "      <td>88.3</td>\n",
              "      <td>19.2</td>\n",
              "      <td>15.7</td>\n",
              "      <td>22.9</td>\n",
              "      <td>5</td>\n",
              "      <td>1998</td>\n",
              "      <td>1</td>\n",
              "    </tr>\n",
              "  </tbody>\n",
              "</table>\n",
              "</div>\n",
              "    <div class=\"colab-df-buttons\">\n",
              "\n",
              "  <div class=\"colab-df-container\">\n",
              "    <button class=\"colab-df-convert\" onclick=\"convertToInteractive('df-13af5335-aece-401d-a1bf-2e43b5ba4385')\"\n",
              "            title=\"Convert this dataframe to an interactive table.\"\n",
              "            style=\"display:none;\">\n",
              "\n",
              "  <svg xmlns=\"http://www.w3.org/2000/svg\" height=\"24px\" viewBox=\"0 -960 960 960\">\n",
              "    <path d=\"M120-120v-720h720v720H120Zm60-500h600v-160H180v160Zm220 220h160v-160H400v160Zm0 220h160v-160H400v160ZM180-400h160v-160H180v160Zm440 0h160v-160H620v160ZM180-180h160v-160H180v160Zm440 0h160v-160H620v160Z\"/>\n",
              "  </svg>\n",
              "    </button>\n",
              "\n",
              "  <style>\n",
              "    .colab-df-container {\n",
              "      display:flex;\n",
              "      gap: 12px;\n",
              "    }\n",
              "\n",
              "    .colab-df-convert {\n",
              "      background-color: #E8F0FE;\n",
              "      border: none;\n",
              "      border-radius: 50%;\n",
              "      cursor: pointer;\n",
              "      display: none;\n",
              "      fill: #1967D2;\n",
              "      height: 32px;\n",
              "      padding: 0 0 0 0;\n",
              "      width: 32px;\n",
              "    }\n",
              "\n",
              "    .colab-df-convert:hover {\n",
              "      background-color: #E2EBFA;\n",
              "      box-shadow: 0px 1px 2px rgba(60, 64, 67, 0.3), 0px 1px 3px 1px rgba(60, 64, 67, 0.15);\n",
              "      fill: #174EA6;\n",
              "    }\n",
              "\n",
              "    .colab-df-buttons div {\n",
              "      margin-bottom: 4px;\n",
              "    }\n",
              "\n",
              "    [theme=dark] .colab-df-convert {\n",
              "      background-color: #3B4455;\n",
              "      fill: #D2E3FC;\n",
              "    }\n",
              "\n",
              "    [theme=dark] .colab-df-convert:hover {\n",
              "      background-color: #434B5C;\n",
              "      box-shadow: 0px 1px 3px 1px rgba(0, 0, 0, 0.15);\n",
              "      filter: drop-shadow(0px 1px 2px rgba(0, 0, 0, 0.3));\n",
              "      fill: #FFFFFF;\n",
              "    }\n",
              "  </style>\n",
              "\n",
              "    <script>\n",
              "      const buttonEl =\n",
              "        document.querySelector('#df-13af5335-aece-401d-a1bf-2e43b5ba4385 button.colab-df-convert');\n",
              "      buttonEl.style.display =\n",
              "        google.colab.kernel.accessAllowed ? 'block' : 'none';\n",
              "\n",
              "      async function convertToInteractive(key) {\n",
              "        const element = document.querySelector('#df-13af5335-aece-401d-a1bf-2e43b5ba4385');\n",
              "        const dataTable =\n",
              "          await google.colab.kernel.invokeFunction('convertToInteractive',\n",
              "                                                    [key], {});\n",
              "        if (!dataTable) return;\n",
              "\n",
              "        const docLinkHtml = 'Like what you see? Visit the ' +\n",
              "          '<a target=\"_blank\" href=https://colab.research.google.com/notebooks/data_table.ipynb>data table notebook</a>'\n",
              "          + ' to learn more about interactive tables.';\n",
              "        element.innerHTML = '';\n",
              "        dataTable['output_type'] = 'display_data';\n",
              "        await google.colab.output.renderOutput(dataTable, element);\n",
              "        const docLink = document.createElement('div');\n",
              "        docLink.innerHTML = docLinkHtml;\n",
              "        element.appendChild(docLink);\n",
              "      }\n",
              "    </script>\n",
              "  </div>\n",
              "\n",
              "\n",
              "<div id=\"df-58f3e205-0d8e-4040-8d65-1bf83eb35cf6\">\n",
              "  <button class=\"colab-df-quickchart\" onclick=\"quickchart('df-58f3e205-0d8e-4040-8d65-1bf83eb35cf6')\"\n",
              "            title=\"Suggest charts.\"\n",
              "            style=\"display:none;\">\n",
              "\n",
              "<svg xmlns=\"http://www.w3.org/2000/svg\" height=\"24px\"viewBox=\"0 0 24 24\"\n",
              "     width=\"24px\">\n",
              "    <g>\n",
              "        <path d=\"M19 3H5c-1.1 0-2 .9-2 2v14c0 1.1.9 2 2 2h14c1.1 0 2-.9 2-2V5c0-1.1-.9-2-2-2zM9 17H7v-7h2v7zm4 0h-2V7h2v10zm4 0h-2v-4h2v4z\"/>\n",
              "    </g>\n",
              "</svg>\n",
              "  </button>\n",
              "\n",
              "<style>\n",
              "  .colab-df-quickchart {\n",
              "      --bg-color: #E8F0FE;\n",
              "      --fill-color: #1967D2;\n",
              "      --hover-bg-color: #E2EBFA;\n",
              "      --hover-fill-color: #174EA6;\n",
              "      --disabled-fill-color: #AAA;\n",
              "      --disabled-bg-color: #DDD;\n",
              "  }\n",
              "\n",
              "  [theme=dark] .colab-df-quickchart {\n",
              "      --bg-color: #3B4455;\n",
              "      --fill-color: #D2E3FC;\n",
              "      --hover-bg-color: #434B5C;\n",
              "      --hover-fill-color: #FFFFFF;\n",
              "      --disabled-bg-color: #3B4455;\n",
              "      --disabled-fill-color: #666;\n",
              "  }\n",
              "\n",
              "  .colab-df-quickchart {\n",
              "    background-color: var(--bg-color);\n",
              "    border: none;\n",
              "    border-radius: 50%;\n",
              "    cursor: pointer;\n",
              "    display: none;\n",
              "    fill: var(--fill-color);\n",
              "    height: 32px;\n",
              "    padding: 0;\n",
              "    width: 32px;\n",
              "  }\n",
              "\n",
              "  .colab-df-quickchart:hover {\n",
              "    background-color: var(--hover-bg-color);\n",
              "    box-shadow: 0 1px 2px rgba(60, 64, 67, 0.3), 0 1px 3px 1px rgba(60, 64, 67, 0.15);\n",
              "    fill: var(--button-hover-fill-color);\n",
              "  }\n",
              "\n",
              "  .colab-df-quickchart-complete:disabled,\n",
              "  .colab-df-quickchart-complete:disabled:hover {\n",
              "    background-color: var(--disabled-bg-color);\n",
              "    fill: var(--disabled-fill-color);\n",
              "    box-shadow: none;\n",
              "  }\n",
              "\n",
              "  .colab-df-spinner {\n",
              "    border: 2px solid var(--fill-color);\n",
              "    border-color: transparent;\n",
              "    border-bottom-color: var(--fill-color);\n",
              "    animation:\n",
              "      spin 1s steps(1) infinite;\n",
              "  }\n",
              "\n",
              "  @keyframes spin {\n",
              "    0% {\n",
              "      border-color: transparent;\n",
              "      border-bottom-color: var(--fill-color);\n",
              "      border-left-color: var(--fill-color);\n",
              "    }\n",
              "    20% {\n",
              "      border-color: transparent;\n",
              "      border-left-color: var(--fill-color);\n",
              "      border-top-color: var(--fill-color);\n",
              "    }\n",
              "    30% {\n",
              "      border-color: transparent;\n",
              "      border-left-color: var(--fill-color);\n",
              "      border-top-color: var(--fill-color);\n",
              "      border-right-color: var(--fill-color);\n",
              "    }\n",
              "    40% {\n",
              "      border-color: transparent;\n",
              "      border-right-color: var(--fill-color);\n",
              "      border-top-color: var(--fill-color);\n",
              "    }\n",
              "    60% {\n",
              "      border-color: transparent;\n",
              "      border-right-color: var(--fill-color);\n",
              "    }\n",
              "    80% {\n",
              "      border-color: transparent;\n",
              "      border-right-color: var(--fill-color);\n",
              "      border-bottom-color: var(--fill-color);\n",
              "    }\n",
              "    90% {\n",
              "      border-color: transparent;\n",
              "      border-bottom-color: var(--fill-color);\n",
              "    }\n",
              "  }\n",
              "</style>\n",
              "\n",
              "  <script>\n",
              "    async function quickchart(key) {\n",
              "      const quickchartButtonEl =\n",
              "        document.querySelector('#' + key + ' button');\n",
              "      quickchartButtonEl.disabled = true;  // To prevent multiple clicks.\n",
              "      quickchartButtonEl.classList.add('colab-df-spinner');\n",
              "      try {\n",
              "        const charts = await google.colab.kernel.invokeFunction(\n",
              "            'suggestCharts', [key], {});\n",
              "      } catch (error) {\n",
              "        console.error('Error during call to suggestCharts:', error);\n",
              "      }\n",
              "      quickchartButtonEl.classList.remove('colab-df-spinner');\n",
              "      quickchartButtonEl.classList.add('colab-df-quickchart-complete');\n",
              "    }\n",
              "    (() => {\n",
              "      let quickchartButtonEl =\n",
              "        document.querySelector('#df-58f3e205-0d8e-4040-8d65-1bf83eb35cf6 button');\n",
              "      quickchartButtonEl.style.display =\n",
              "        google.colab.kernel.accessAllowed ? 'block' : 'none';\n",
              "    })();\n",
              "  </script>\n",
              "</div>\n",
              "    </div>\n",
              "  </div>\n"
            ]
          },
          "metadata": {},
          "execution_count": 444
        }
      ]
    },
    {
      "cell_type": "markdown",
      "source": [
        "\n",
        "\n",
        "# Função de feature engineering"
      ],
      "metadata": {
        "id": "rMe-bJrC08vQ"
      }
    },
    {
      "cell_type": "code",
      "source": [
        "def featuring_engineering(df):\n",
        "  df['data'] = pd.to_datetime(df['data'])\n",
        "  df['mes'] = df['data'].dt.month\n",
        "  df['ano'] = df['data'].dt.year\n",
        "  df['dia'] = df['data'].dt.day\n",
        "  df = df.drop(['data'], axis=1)\n",
        "  return df\n"
      ],
      "metadata": {
        "id": "nzM7h6fFpHa4"
      },
      "execution_count": 445,
      "outputs": []
    },
    {
      "cell_type": "markdown",
      "source": [
        "**Função print outliers**"
      ],
      "metadata": {
        "id": "pYXmQiXnqpgW"
      }
    },
    {
      "cell_type": "markdown",
      "source": [
        "A presença de outliers pode prejudicar a capacidade de generalização dos modelos. Para lidar com este problema, foi aplicada a técnica do z-score, que é uma medida estatística que expressa o quão longe um ponto de dados está da média de uma distribuição em termos de desvios padrão. No caso em questão, foi especificado o limiar = 3.\n",
        "\n",
        "A função abaixo printa as linhas que contém outliers:"
      ],
      "metadata": {
        "id": "gfn6NFpotRjV"
      }
    },
    {
      "cell_type": "code",
      "source": [
        "def print_outliers(df, threshold=3):\n",
        "  # Z-score para cada valor em cada coluna\n",
        "  z_scores = np.abs(stats.zscore(df))\n",
        "\n",
        "  # limite para considerar um valor como outlier\n",
        "  threshold = 3\n",
        "\n",
        "  # verificação de outliers\n",
        "  outlier_indices = np.where(z_scores > threshold)\n",
        "\n",
        "\n",
        "  outliers = [(df.index[i], df.columns[j]) for i, j in zip(*outlier_indices)]\n",
        "\n",
        "  print(\"Outliers:\")\n",
        "  for i, j in outliers:\n",
        "      print(f\"Valor {df.at[i, j]} na coluna {j} da linha {i} é um outlier.\")\n",
        "\n"
      ],
      "metadata": {
        "id": "vvfLW-IipxWU"
      },
      "execution_count": 446,
      "outputs": []
    },
    {
      "cell_type": "markdown",
      "source": [
        "# Análise de dados exploratória"
      ],
      "metadata": {
        "id": "8PF_LegPxC0v"
      }
    },
    {
      "cell_type": "code",
      "source": [
        "df.shape"
      ],
      "metadata": {
        "colab": {
          "base_uri": "https://localhost:8080/"
        },
        "id": "DBwX9aNV2Kok",
        "outputId": "a74572c7-5cdb-4711-ece4-3d07203ca5dd"
      },
      "execution_count": 447,
      "outputs": [
        {
          "output_type": "execute_result",
          "data": {
            "text/plain": [
              "(201, 8)"
            ]
          },
          "metadata": {},
          "execution_count": 447
        }
      ]
    },
    {
      "cell_type": "code",
      "source": [
        "df.info()"
      ],
      "metadata": {
        "colab": {
          "base_uri": "https://localhost:8080/"
        },
        "id": "qBpbyDuLy2EW",
        "outputId": "a9d658c7-215d-4e95-fdbf-ba802343788a"
      },
      "execution_count": 448,
      "outputs": [
        {
          "output_type": "stream",
          "name": "stdout",
          "text": [
            "<class 'pandas.core.frame.DataFrame'>\n",
            "Int64Index: 201 entries, 0 to 203\n",
            "Data columns (total 8 columns):\n",
            " #   Column                Non-Null Count  Dtype  \n",
            "---  ------                --------------  -----  \n",
            " 0   casos-confirmados     201 non-null    int64  \n",
            " 1   chuva                 201 non-null    float64\n",
            " 2   temperatura-media     201 non-null    float64\n",
            " 3   temperatura-mininima  201 non-null    float64\n",
            " 4   temperatura-maxima    201 non-null    float64\n",
            " 5   mes                   201 non-null    int64  \n",
            " 6   ano                   201 non-null    int64  \n",
            " 7   dia                   201 non-null    int64  \n",
            "dtypes: float64(4), int64(4)\n",
            "memory usage: 14.1 KB\n"
          ]
        }
      ]
    },
    {
      "cell_type": "code",
      "source": [
        "df.describe()"
      ],
      "metadata": {
        "colab": {
          "base_uri": "https://localhost:8080/",
          "height": 300
        },
        "id": "WSQVdRlT12c3",
        "outputId": "acf9251c-a61e-465e-ca22-5c05cf1217a9"
      },
      "execution_count": 449,
      "outputs": [
        {
          "output_type": "execute_result",
          "data": {
            "text/plain": [
              "       casos-confirmados       chuva  temperatura-media  temperatura-mininima  \\\n",
              "count         201.000000  201.000000         201.000000            201.000000   \n",
              "mean          171.497512  117.512953          22.195522             17.671144   \n",
              "std           508.706822   95.094406           2.405729              3.346216   \n",
              "min             0.000000    0.800000          16.400000              8.200000   \n",
              "25%             6.000000   46.400000          20.100000             15.000000   \n",
              "50%            17.000000   93.000000          22.700000             18.100000   \n",
              "75%            76.000000  176.500000          24.200000             20.400000   \n",
              "max          4207.000000  452.800000          27.200000             23.500000   \n",
              "\n",
              "       temperatura-maxima         mes          ano    dia  \n",
              "count          201.000000  201.000000   201.000000  201.0  \n",
              "mean            25.565174    6.537313  2005.880597    1.0  \n",
              "std              2.257118    3.471289     4.848265    0.0  \n",
              "min             19.100000    1.000000  1998.000000    1.0  \n",
              "25%             23.800000    4.000000  2002.000000    1.0  \n",
              "50%             26.200000    7.000000  2006.000000    1.0  \n",
              "75%             27.200000   10.000000  2010.000000    1.0  \n",
              "max             30.100000   12.000000  2014.000000    1.0  "
            ],
            "text/html": [
              "\n",
              "  <div id=\"df-aec5db8f-149c-4b52-8821-a0c9f78eab76\" class=\"colab-df-container\">\n",
              "    <div>\n",
              "<style scoped>\n",
              "    .dataframe tbody tr th:only-of-type {\n",
              "        vertical-align: middle;\n",
              "    }\n",
              "\n",
              "    .dataframe tbody tr th {\n",
              "        vertical-align: top;\n",
              "    }\n",
              "\n",
              "    .dataframe thead th {\n",
              "        text-align: right;\n",
              "    }\n",
              "</style>\n",
              "<table border=\"1\" class=\"dataframe\">\n",
              "  <thead>\n",
              "    <tr style=\"text-align: right;\">\n",
              "      <th></th>\n",
              "      <th>casos-confirmados</th>\n",
              "      <th>chuva</th>\n",
              "      <th>temperatura-media</th>\n",
              "      <th>temperatura-mininima</th>\n",
              "      <th>temperatura-maxima</th>\n",
              "      <th>mes</th>\n",
              "      <th>ano</th>\n",
              "      <th>dia</th>\n",
              "    </tr>\n",
              "  </thead>\n",
              "  <tbody>\n",
              "    <tr>\n",
              "      <th>count</th>\n",
              "      <td>201.000000</td>\n",
              "      <td>201.000000</td>\n",
              "      <td>201.000000</td>\n",
              "      <td>201.000000</td>\n",
              "      <td>201.000000</td>\n",
              "      <td>201.000000</td>\n",
              "      <td>201.000000</td>\n",
              "      <td>201.0</td>\n",
              "    </tr>\n",
              "    <tr>\n",
              "      <th>mean</th>\n",
              "      <td>171.497512</td>\n",
              "      <td>117.512953</td>\n",
              "      <td>22.195522</td>\n",
              "      <td>17.671144</td>\n",
              "      <td>25.565174</td>\n",
              "      <td>6.537313</td>\n",
              "      <td>2005.880597</td>\n",
              "      <td>1.0</td>\n",
              "    </tr>\n",
              "    <tr>\n",
              "      <th>std</th>\n",
              "      <td>508.706822</td>\n",
              "      <td>95.094406</td>\n",
              "      <td>2.405729</td>\n",
              "      <td>3.346216</td>\n",
              "      <td>2.257118</td>\n",
              "      <td>3.471289</td>\n",
              "      <td>4.848265</td>\n",
              "      <td>0.0</td>\n",
              "    </tr>\n",
              "    <tr>\n",
              "      <th>min</th>\n",
              "      <td>0.000000</td>\n",
              "      <td>0.800000</td>\n",
              "      <td>16.400000</td>\n",
              "      <td>8.200000</td>\n",
              "      <td>19.100000</td>\n",
              "      <td>1.000000</td>\n",
              "      <td>1998.000000</td>\n",
              "      <td>1.0</td>\n",
              "    </tr>\n",
              "    <tr>\n",
              "      <th>25%</th>\n",
              "      <td>6.000000</td>\n",
              "      <td>46.400000</td>\n",
              "      <td>20.100000</td>\n",
              "      <td>15.000000</td>\n",
              "      <td>23.800000</td>\n",
              "      <td>4.000000</td>\n",
              "      <td>2002.000000</td>\n",
              "      <td>1.0</td>\n",
              "    </tr>\n",
              "    <tr>\n",
              "      <th>50%</th>\n",
              "      <td>17.000000</td>\n",
              "      <td>93.000000</td>\n",
              "      <td>22.700000</td>\n",
              "      <td>18.100000</td>\n",
              "      <td>26.200000</td>\n",
              "      <td>7.000000</td>\n",
              "      <td>2006.000000</td>\n",
              "      <td>1.0</td>\n",
              "    </tr>\n",
              "    <tr>\n",
              "      <th>75%</th>\n",
              "      <td>76.000000</td>\n",
              "      <td>176.500000</td>\n",
              "      <td>24.200000</td>\n",
              "      <td>20.400000</td>\n",
              "      <td>27.200000</td>\n",
              "      <td>10.000000</td>\n",
              "      <td>2010.000000</td>\n",
              "      <td>1.0</td>\n",
              "    </tr>\n",
              "    <tr>\n",
              "      <th>max</th>\n",
              "      <td>4207.000000</td>\n",
              "      <td>452.800000</td>\n",
              "      <td>27.200000</td>\n",
              "      <td>23.500000</td>\n",
              "      <td>30.100000</td>\n",
              "      <td>12.000000</td>\n",
              "      <td>2014.000000</td>\n",
              "      <td>1.0</td>\n",
              "    </tr>\n",
              "  </tbody>\n",
              "</table>\n",
              "</div>\n",
              "    <div class=\"colab-df-buttons\">\n",
              "\n",
              "  <div class=\"colab-df-container\">\n",
              "    <button class=\"colab-df-convert\" onclick=\"convertToInteractive('df-aec5db8f-149c-4b52-8821-a0c9f78eab76')\"\n",
              "            title=\"Convert this dataframe to an interactive table.\"\n",
              "            style=\"display:none;\">\n",
              "\n",
              "  <svg xmlns=\"http://www.w3.org/2000/svg\" height=\"24px\" viewBox=\"0 -960 960 960\">\n",
              "    <path d=\"M120-120v-720h720v720H120Zm60-500h600v-160H180v160Zm220 220h160v-160H400v160Zm0 220h160v-160H400v160ZM180-400h160v-160H180v160Zm440 0h160v-160H620v160ZM180-180h160v-160H180v160Zm440 0h160v-160H620v160Z\"/>\n",
              "  </svg>\n",
              "    </button>\n",
              "\n",
              "  <style>\n",
              "    .colab-df-container {\n",
              "      display:flex;\n",
              "      gap: 12px;\n",
              "    }\n",
              "\n",
              "    .colab-df-convert {\n",
              "      background-color: #E8F0FE;\n",
              "      border: none;\n",
              "      border-radius: 50%;\n",
              "      cursor: pointer;\n",
              "      display: none;\n",
              "      fill: #1967D2;\n",
              "      height: 32px;\n",
              "      padding: 0 0 0 0;\n",
              "      width: 32px;\n",
              "    }\n",
              "\n",
              "    .colab-df-convert:hover {\n",
              "      background-color: #E2EBFA;\n",
              "      box-shadow: 0px 1px 2px rgba(60, 64, 67, 0.3), 0px 1px 3px 1px rgba(60, 64, 67, 0.15);\n",
              "      fill: #174EA6;\n",
              "    }\n",
              "\n",
              "    .colab-df-buttons div {\n",
              "      margin-bottom: 4px;\n",
              "    }\n",
              "\n",
              "    [theme=dark] .colab-df-convert {\n",
              "      background-color: #3B4455;\n",
              "      fill: #D2E3FC;\n",
              "    }\n",
              "\n",
              "    [theme=dark] .colab-df-convert:hover {\n",
              "      background-color: #434B5C;\n",
              "      box-shadow: 0px 1px 3px 1px rgba(0, 0, 0, 0.15);\n",
              "      filter: drop-shadow(0px 1px 2px rgba(0, 0, 0, 0.3));\n",
              "      fill: #FFFFFF;\n",
              "    }\n",
              "  </style>\n",
              "\n",
              "    <script>\n",
              "      const buttonEl =\n",
              "        document.querySelector('#df-aec5db8f-149c-4b52-8821-a0c9f78eab76 button.colab-df-convert');\n",
              "      buttonEl.style.display =\n",
              "        google.colab.kernel.accessAllowed ? 'block' : 'none';\n",
              "\n",
              "      async function convertToInteractive(key) {\n",
              "        const element = document.querySelector('#df-aec5db8f-149c-4b52-8821-a0c9f78eab76');\n",
              "        const dataTable =\n",
              "          await google.colab.kernel.invokeFunction('convertToInteractive',\n",
              "                                                    [key], {});\n",
              "        if (!dataTable) return;\n",
              "\n",
              "        const docLinkHtml = 'Like what you see? Visit the ' +\n",
              "          '<a target=\"_blank\" href=https://colab.research.google.com/notebooks/data_table.ipynb>data table notebook</a>'\n",
              "          + ' to learn more about interactive tables.';\n",
              "        element.innerHTML = '';\n",
              "        dataTable['output_type'] = 'display_data';\n",
              "        await google.colab.output.renderOutput(dataTable, element);\n",
              "        const docLink = document.createElement('div');\n",
              "        docLink.innerHTML = docLinkHtml;\n",
              "        element.appendChild(docLink);\n",
              "      }\n",
              "    </script>\n",
              "  </div>\n",
              "\n",
              "\n",
              "<div id=\"df-32988e41-9fe1-4059-b21f-83d585dd37ba\">\n",
              "  <button class=\"colab-df-quickchart\" onclick=\"quickchart('df-32988e41-9fe1-4059-b21f-83d585dd37ba')\"\n",
              "            title=\"Suggest charts.\"\n",
              "            style=\"display:none;\">\n",
              "\n",
              "<svg xmlns=\"http://www.w3.org/2000/svg\" height=\"24px\"viewBox=\"0 0 24 24\"\n",
              "     width=\"24px\">\n",
              "    <g>\n",
              "        <path d=\"M19 3H5c-1.1 0-2 .9-2 2v14c0 1.1.9 2 2 2h14c1.1 0 2-.9 2-2V5c0-1.1-.9-2-2-2zM9 17H7v-7h2v7zm4 0h-2V7h2v10zm4 0h-2v-4h2v4z\"/>\n",
              "    </g>\n",
              "</svg>\n",
              "  </button>\n",
              "\n",
              "<style>\n",
              "  .colab-df-quickchart {\n",
              "      --bg-color: #E8F0FE;\n",
              "      --fill-color: #1967D2;\n",
              "      --hover-bg-color: #E2EBFA;\n",
              "      --hover-fill-color: #174EA6;\n",
              "      --disabled-fill-color: #AAA;\n",
              "      --disabled-bg-color: #DDD;\n",
              "  }\n",
              "\n",
              "  [theme=dark] .colab-df-quickchart {\n",
              "      --bg-color: #3B4455;\n",
              "      --fill-color: #D2E3FC;\n",
              "      --hover-bg-color: #434B5C;\n",
              "      --hover-fill-color: #FFFFFF;\n",
              "      --disabled-bg-color: #3B4455;\n",
              "      --disabled-fill-color: #666;\n",
              "  }\n",
              "\n",
              "  .colab-df-quickchart {\n",
              "    background-color: var(--bg-color);\n",
              "    border: none;\n",
              "    border-radius: 50%;\n",
              "    cursor: pointer;\n",
              "    display: none;\n",
              "    fill: var(--fill-color);\n",
              "    height: 32px;\n",
              "    padding: 0;\n",
              "    width: 32px;\n",
              "  }\n",
              "\n",
              "  .colab-df-quickchart:hover {\n",
              "    background-color: var(--hover-bg-color);\n",
              "    box-shadow: 0 1px 2px rgba(60, 64, 67, 0.3), 0 1px 3px 1px rgba(60, 64, 67, 0.15);\n",
              "    fill: var(--button-hover-fill-color);\n",
              "  }\n",
              "\n",
              "  .colab-df-quickchart-complete:disabled,\n",
              "  .colab-df-quickchart-complete:disabled:hover {\n",
              "    background-color: var(--disabled-bg-color);\n",
              "    fill: var(--disabled-fill-color);\n",
              "    box-shadow: none;\n",
              "  }\n",
              "\n",
              "  .colab-df-spinner {\n",
              "    border: 2px solid var(--fill-color);\n",
              "    border-color: transparent;\n",
              "    border-bottom-color: var(--fill-color);\n",
              "    animation:\n",
              "      spin 1s steps(1) infinite;\n",
              "  }\n",
              "\n",
              "  @keyframes spin {\n",
              "    0% {\n",
              "      border-color: transparent;\n",
              "      border-bottom-color: var(--fill-color);\n",
              "      border-left-color: var(--fill-color);\n",
              "    }\n",
              "    20% {\n",
              "      border-color: transparent;\n",
              "      border-left-color: var(--fill-color);\n",
              "      border-top-color: var(--fill-color);\n",
              "    }\n",
              "    30% {\n",
              "      border-color: transparent;\n",
              "      border-left-color: var(--fill-color);\n",
              "      border-top-color: var(--fill-color);\n",
              "      border-right-color: var(--fill-color);\n",
              "    }\n",
              "    40% {\n",
              "      border-color: transparent;\n",
              "      border-right-color: var(--fill-color);\n",
              "      border-top-color: var(--fill-color);\n",
              "    }\n",
              "    60% {\n",
              "      border-color: transparent;\n",
              "      border-right-color: var(--fill-color);\n",
              "    }\n",
              "    80% {\n",
              "      border-color: transparent;\n",
              "      border-right-color: var(--fill-color);\n",
              "      border-bottom-color: var(--fill-color);\n",
              "    }\n",
              "    90% {\n",
              "      border-color: transparent;\n",
              "      border-bottom-color: var(--fill-color);\n",
              "    }\n",
              "  }\n",
              "</style>\n",
              "\n",
              "  <script>\n",
              "    async function quickchart(key) {\n",
              "      const quickchartButtonEl =\n",
              "        document.querySelector('#' + key + ' button');\n",
              "      quickchartButtonEl.disabled = true;  // To prevent multiple clicks.\n",
              "      quickchartButtonEl.classList.add('colab-df-spinner');\n",
              "      try {\n",
              "        const charts = await google.colab.kernel.invokeFunction(\n",
              "            'suggestCharts', [key], {});\n",
              "      } catch (error) {\n",
              "        console.error('Error during call to suggestCharts:', error);\n",
              "      }\n",
              "      quickchartButtonEl.classList.remove('colab-df-spinner');\n",
              "      quickchartButtonEl.classList.add('colab-df-quickchart-complete');\n",
              "    }\n",
              "    (() => {\n",
              "      let quickchartButtonEl =\n",
              "        document.querySelector('#df-32988e41-9fe1-4059-b21f-83d585dd37ba button');\n",
              "      quickchartButtonEl.style.display =\n",
              "        google.colab.kernel.accessAllowed ? 'block' : 'none';\n",
              "    })();\n",
              "  </script>\n",
              "</div>\n",
              "    </div>\n",
              "  </div>\n"
            ]
          },
          "metadata": {},
          "execution_count": 449
        }
      ]
    },
    {
      "cell_type": "markdown",
      "source": [
        "Os dados estão num intervalo entre 1998 e 2014. Estão distribuídos de forma balanceada, exceto no ano de 2006."
      ],
      "metadata": {
        "id": "SiCHuNhm4_C0"
      }
    },
    {
      "cell_type": "code",
      "source": [
        "sns.histplot(data=df, x='ano')\n",
        "plt.title('Distribuição dos dados por ano')"
      ],
      "metadata": {
        "colab": {
          "base_uri": "https://localhost:8080/",
          "height": 497
        },
        "id": "1YEH5aR44xDZ",
        "outputId": "ed495643-3e3e-42e2-b904-ee162b2e5078"
      },
      "execution_count": 450,
      "outputs": [
        {
          "output_type": "execute_result",
          "data": {
            "text/plain": [
              "Text(0.5, 1.0, 'Distribuição dos dados por ano')"
            ]
          },
          "metadata": {},
          "execution_count": 450
        },
        {
          "output_type": "display_data",
          "data": {
            "text/plain": [
              "<Figure size 640x480 with 1 Axes>"
            ],
            "image/png": "[encoded data removed]"
          },
          "metadata": {}
        }
      ]
    },
    {
      "cell_type": "code",
      "source": [
        "df = featuring_engineering(raw_df)"
      ],
      "metadata": {
        "id": "_VLCAtUIqhro"
      },
      "execution_count": 451,
      "outputs": []
    },
    {
      "cell_type": "code",
      "source": [
        "print_outliers(df)"
      ],
      "metadata": {
        "colab": {
          "base_uri": "https://localhost:8080/"
        },
        "id": "UeDH55_kqmet",
        "outputId": "45589cee-682f-43a1-d6bf-d96b01a5704e"
      },
      "execution_count": 452,
      "outputs": [
        {
          "output_type": "stream",
          "name": "stdout",
          "text": [
            "Outliers:\n",
            "Valor 7555 na coluna casos-confirmados da linha 194 é um outlier.\n",
            "Valor 20428 na coluna casos-confirmados da linha 195 é um outlier.\n",
            "Valor 10484 na coluna casos-confirmados da linha 196 é um outlier.\n"
          ]
        }
      ]
    },
    {
      "cell_type": "code",
      "source": [
        "df = df[~df.index.isin([194, 195, 196])]"
      ],
      "metadata": {
        "id": "pxNHoxFrRaCz"
      },
      "execution_count": 453,
      "outputs": []
    },
    {
      "cell_type": "code",
      "source": [
        "# Substituição de NaNs pela mediana em todas as colunas com NaNs\n",
        "df = df.fillna(df.mean())"
      ],
      "metadata": {
        "id": "aYmfVi6By0y6"
      },
      "execution_count": 454,
      "outputs": []
    },
    {
      "cell_type": "code",
      "source": [
        "df.shape"
      ],
      "metadata": {
        "colab": {
          "base_uri": "https://localhost:8080/"
        },
        "id": "omwNgkoP4aAD",
        "outputId": "cfbce3d0-351e-48c3-8b30-9a3ba6a9c822"
      },
      "execution_count": 455,
      "outputs": [
        {
          "output_type": "execute_result",
          "data": {
            "text/plain": [
              "(201, 8)"
            ]
          },
          "metadata": {},
          "execution_count": 455
        }
      ]
    },
    {
      "cell_type": "code",
      "source": [
        "df.head()"
      ],
      "metadata": {
        "colab": {
          "base_uri": "https://localhost:8080/",
          "height": 206
        },
        "id": "BcYZdQ4e35Wy",
        "outputId": "e89f85fb-b37d-4435-97d1-89324a9cd16f"
      },
      "execution_count": 456,
      "outputs": [
        {
          "output_type": "execute_result",
          "data": {
            "text/plain": [
              "   casos-confirmados  chuva  temperatura-media  temperatura-mininima  \\\n",
              "0                237  179.2               25.7                  20.2   \n",
              "1                331  226.3               25.1                  20.0   \n",
              "2                562  149.1               24.8                  22.4   \n",
              "3                187   46.4               22.7                  18.1   \n",
              "4                 32   88.3               19.2                  15.7   \n",
              "\n",
              "   temperatura-maxima  mes   ano  dia  \n",
              "0                28.1    1  1998    1  \n",
              "1                28.0    2  1998    1  \n",
              "2                27.2    3  1998    1  \n",
              "3                26.0    4  1998    1  \n",
              "4                22.9    5  1998    1  "
            ],
            "text/html": [
              "\n",
              "  <div id=\"df-c8145904-e0b2-433c-9f2a-e19c62614de8\" class=\"colab-df-container\">\n",
              "    <div>\n",
              "<style scoped>\n",
              "    .dataframe tbody tr th:only-of-type {\n",
              "        vertical-align: middle;\n",
              "    }\n",
              "\n",
              "    .dataframe tbody tr th {\n",
              "        vertical-align: top;\n",
              "    }\n",
              "\n",
              "    .dataframe thead th {\n",
              "        text-align: right;\n",
              "    }\n",
              "</style>\n",
              "<table border=\"1\" class=\"dataframe\">\n",
              "  <thead>\n",
              "    <tr style=\"text-align: right;\">\n",
              "      <th></th>\n",
              "      <th>casos-confirmados</th>\n",
              "      <th>chuva</th>\n",
              "      <th>temperatura-media</th>\n",
              "      <th>temperatura-mininima</th>\n",
              "      <th>temperatura-maxima</th>\n",
              "      <th>mes</th>\n",
              "      <th>ano</th>\n",
              "      <th>dia</th>\n",
              "    </tr>\n",
              "  </thead>\n",
              "  <tbody>\n",
              "    <tr>\n",
              "      <th>0</th>\n",
              "      <td>237</td>\n",
              "      <td>179.2</td>\n",
              "      <td>25.7</td>\n",
              "      <td>20.2</td>\n",
              "      <td>28.1</td>\n",
              "      <td>1</td>\n",
              "      <td>1998</td>\n",
              "      <td>1</td>\n",
              "    </tr>\n",
              "    <tr>\n",
              "      <th>1</th>\n",
              "      <td>331</td>\n",
              "      <td>226.3</td>\n",
              "      <td>25.1</td>\n",
              "      <td>20.0</td>\n",
              "      <td>28.0</td>\n",
              "      <td>2</td>\n",
              "      <td>1998</td>\n",
              "      <td>1</td>\n",
              "    </tr>\n",
              "    <tr>\n",
              "      <th>2</th>\n",
              "      <td>562</td>\n",
              "      <td>149.1</td>\n",
              "      <td>24.8</td>\n",
              "      <td>22.4</td>\n",
              "      <td>27.2</td>\n",
              "      <td>3</td>\n",
              "      <td>1998</td>\n",
              "      <td>1</td>\n",
              "    </tr>\n",
              "    <tr>\n",
              "      <th>3</th>\n",
              "      <td>187</td>\n",
              "      <td>46.4</td>\n",
              "      <td>22.7</td>\n",
              "      <td>18.1</td>\n",
              "      <td>26.0</td>\n",
              "      <td>4</td>\n",
              "      <td>1998</td>\n",
              "      <td>1</td>\n",
              "    </tr>\n",
              "    <tr>\n",
              "      <th>4</th>\n",
              "      <td>32</td>\n",
              "      <td>88.3</td>\n",
              "      <td>19.2</td>\n",
              "      <td>15.7</td>\n",
              "      <td>22.9</td>\n",
              "      <td>5</td>\n",
              "      <td>1998</td>\n",
              "      <td>1</td>\n",
              "    </tr>\n",
              "  </tbody>\n",
              "</table>\n",
              "</div>\n",
              "    <div class=\"colab-df-buttons\">\n",
              "\n",
              "  <div class=\"colab-df-container\">\n",
              "    <button class=\"colab-df-convert\" onclick=\"convertToInteractive('df-c8145904-e0b2-433c-9f2a-e19c62614de8')\"\n",
              "            title=\"Convert this dataframe to an interactive table.\"\n",
              "            style=\"display:none;\">\n",
              "\n",
              "  <svg xmlns=\"http://www.w3.org/2000/svg\" height=\"24px\" viewBox=\"0 -960 960 960\">\n",
              "    <path d=\"M120-120v-720h720v720H120Zm60-500h600v-160H180v160Zm220 220h160v-160H400v160Zm0 220h160v-160H400v160ZM180-400h160v-160H180v160Zm440 0h160v-160H620v160ZM180-180h160v-160H180v160Zm440 0h160v-160H620v160Z\"/>\n",
              "  </svg>\n",
              "    </button>\n",
              "\n",
              "  <style>\n",
              "    .colab-df-container {\n",
              "      display:flex;\n",
              "      gap: 12px;\n",
              "    }\n",
              "\n",
              "    .colab-df-convert {\n",
              "      background-color: #E8F0FE;\n",
              "      border: none;\n",
              "      border-radius: 50%;\n",
              "      cursor: pointer;\n",
              "      display: none;\n",
              "      fill: #1967D2;\n",
              "      height: 32px;\n",
              "      padding: 0 0 0 0;\n",
              "      width: 32px;\n",
              "    }\n",
              "\n",
              "    .colab-df-convert:hover {\n",
              "      background-color: #E2EBFA;\n",
              "      box-shadow: 0px 1px 2px rgba(60, 64, 67, 0.3), 0px 1px 3px 1px rgba(60, 64, 67, 0.15);\n",
              "      fill: #174EA6;\n",
              "    }\n",
              "\n",
              "    .colab-df-buttons div {\n",
              "      margin-bottom: 4px;\n",
              "    }\n",
              "\n",
              "    [theme=dark] .colab-df-convert {\n",
              "      background-color: #3B4455;\n",
              "      fill: #D2E3FC;\n",
              "    }\n",
              "\n",
              "    [theme=dark] .colab-df-convert:hover {\n",
              "      background-color: #434B5C;\n",
              "      box-shadow: 0px 1px 3px 1px rgba(0, 0, 0, 0.15);\n",
              "      filter: drop-shadow(0px 1px 2px rgba(0, 0, 0, 0.3));\n",
              "      fill: #FFFFFF;\n",
              "    }\n",
              "  </style>\n",
              "\n",
              "    <script>\n",
              "      const buttonEl =\n",
              "        document.querySelector('#df-c8145904-e0b2-433c-9f2a-e19c62614de8 button.colab-df-convert');\n",
              "      buttonEl.style.display =\n",
              "        google.colab.kernel.accessAllowed ? 'block' : 'none';\n",
              "\n",
              "      async function convertToInteractive(key) {\n",
              "        const element = document.querySelector('#df-c8145904-e0b2-433c-9f2a-e19c62614de8');\n",
              "        const dataTable =\n",
              "          await google.colab.kernel.invokeFunction('convertToInteractive',\n",
              "                                                    [key], {});\n",
              "        if (!dataTable) return;\n",
              "\n",
              "        const docLinkHtml = 'Like what you see? Visit the ' +\n",
              "          '<a target=\"_blank\" href=https://colab.research.google.com/notebooks/data_table.ipynb>data table notebook</a>'\n",
              "          + ' to learn more about interactive tables.';\n",
              "        element.innerHTML = '';\n",
              "        dataTable['output_type'] = 'display_data';\n",
              "        await google.colab.output.renderOutput(dataTable, element);\n",
              "        const docLink = document.createElement('div');\n",
              "        docLink.innerHTML = docLinkHtml;\n",
              "        element.appendChild(docLink);\n",
              "      }\n",
              "    </script>\n",
              "  </div>\n",
              "\n",
              "\n",
              "<div id=\"df-c7d601c5-6791-43c8-971b-3847352ba166\">\n",
              "  <button class=\"colab-df-quickchart\" onclick=\"quickchart('df-c7d601c5-6791-43c8-971b-3847352ba166')\"\n",
              "            title=\"Suggest charts.\"\n",
              "            style=\"display:none;\">\n",
              "\n",
              "<svg xmlns=\"http://www.w3.org/2000/svg\" height=\"24px\"viewBox=\"0 0 24 24\"\n",
              "     width=\"24px\">\n",
              "    <g>\n",
              "        <path d=\"M19 3H5c-1.1 0-2 .9-2 2v14c0 1.1.9 2 2 2h14c1.1 0 2-.9 2-2V5c0-1.1-.9-2-2-2zM9 17H7v-7h2v7zm4 0h-2V7h2v10zm4 0h-2v-4h2v4z\"/>\n",
              "    </g>\n",
              "</svg>\n",
              "  </button>\n",
              "\n",
              "<style>\n",
              "  .colab-df-quickchart {\n",
              "      --bg-color: #E8F0FE;\n",
              "      --fill-color: #1967D2;\n",
              "      --hover-bg-color: #E2EBFA;\n",
              "      --hover-fill-color: #174EA6;\n",
              "      --disabled-fill-color: #AAA;\n",
              "      --disabled-bg-color: #DDD;\n",
              "  }\n",
              "\n",
              "  [theme=dark] .colab-df-quickchart {\n",
              "      --bg-color: #3B4455;\n",
              "      --fill-color: #D2E3FC;\n",
              "      --hover-bg-color: #434B5C;\n",
              "      --hover-fill-color: #FFFFFF;\n",
              "      --disabled-bg-color: #3B4455;\n",
              "      --disabled-fill-color: #666;\n",
              "  }\n",
              "\n",
              "  .colab-df-quickchart {\n",
              "    background-color: var(--bg-color);\n",
              "    border: none;\n",
              "    border-radius: 50%;\n",
              "    cursor: pointer;\n",
              "    display: none;\n",
              "    fill: var(--fill-color);\n",
              "    height: 32px;\n",
              "    padding: 0;\n",
              "    width: 32px;\n",
              "  }\n",
              "\n",
              "  .colab-df-quickchart:hover {\n",
              "    background-color: var(--hover-bg-color);\n",
              "    box-shadow: 0 1px 2px rgba(60, 64, 67, 0.3), 0 1px 3px 1px rgba(60, 64, 67, 0.15);\n",
              "    fill: var(--button-hover-fill-color);\n",
              "  }\n",
              "\n",
              "  .colab-df-quickchart-complete:disabled,\n",
              "  .colab-df-quickchart-complete:disabled:hover {\n",
              "    background-color: var(--disabled-bg-color);\n",
              "    fill: var(--disabled-fill-color);\n",
              "    box-shadow: none;\n",
              "  }\n",
              "\n",
              "  .colab-df-spinner {\n",
              "    border: 2px solid var(--fill-color);\n",
              "    border-color: transparent;\n",
              "    border-bottom-color: var(--fill-color);\n",
              "    animation:\n",
              "      spin 1s steps(1) infinite;\n",
              "  }\n",
              "\n",
              "  @keyframes spin {\n",
              "    0% {\n",
              "      border-color: transparent;\n",
              "      border-bottom-color: var(--fill-color);\n",
              "      border-left-color: var(--fill-color);\n",
              "    }\n",
              "    20% {\n",
              "      border-color: transparent;\n",
              "      border-left-color: var(--fill-color);\n",
              "      border-top-color: var(--fill-color);\n",
              "    }\n",
              "    30% {\n",
              "      border-color: transparent;\n",
              "      border-left-color: var(--fill-color);\n",
              "      border-top-color: var(--fill-color);\n",
              "      border-right-color: var(--fill-color);\n",
              "    }\n",
              "    40% {\n",
              "      border-color: transparent;\n",
              "      border-right-color: var(--fill-color);\n",
              "      border-top-color: var(--fill-color);\n",
              "    }\n",
              "    60% {\n",
              "      border-color: transparent;\n",
              "      border-right-color: var(--fill-color);\n",
              "    }\n",
              "    80% {\n",
              "      border-color: transparent;\n",
              "      border-right-color: var(--fill-color);\n",
              "      border-bottom-color: var(--fill-color);\n",
              "    }\n",
              "    90% {\n",
              "      border-color: transparent;\n",
              "      border-bottom-color: var(--fill-color);\n",
              "    }\n",
              "  }\n",
              "</style>\n",
              "\n",
              "  <script>\n",
              "    async function quickchart(key) {\n",
              "      const quickchartButtonEl =\n",
              "        document.querySelector('#' + key + ' button');\n",
              "      quickchartButtonEl.disabled = true;  // To prevent multiple clicks.\n",
              "      quickchartButtonEl.classList.add('colab-df-spinner');\n",
              "      try {\n",
              "        const charts = await google.colab.kernel.invokeFunction(\n",
              "            'suggestCharts', [key], {});\n",
              "      } catch (error) {\n",
              "        console.error('Error during call to suggestCharts:', error);\n",
              "      }\n",
              "      quickchartButtonEl.classList.remove('colab-df-spinner');\n",
              "      quickchartButtonEl.classList.add('colab-df-quickchart-complete');\n",
              "    }\n",
              "    (() => {\n",
              "      let quickchartButtonEl =\n",
              "        document.querySelector('#df-c7d601c5-6791-43c8-971b-3847352ba166 button');\n",
              "      quickchartButtonEl.style.display =\n",
              "        google.colab.kernel.accessAllowed ? 'block' : 'none';\n",
              "    })();\n",
              "  </script>\n",
              "</div>\n",
              "    </div>\n",
              "  </div>\n"
            ]
          },
          "metadata": {},
          "execution_count": 456
        }
      ]
    },
    {
      "cell_type": "code",
      "source": [
        "X = df.drop('casos-confirmados', axis=1)\n",
        "y = df['casos-confirmados']"
      ],
      "metadata": {
        "id": "HtoePL20xkMk"
      },
      "execution_count": 457,
      "outputs": []
    },
    {
      "cell_type": "markdown",
      "source": [
        "# **Conjuntos de treino, validação e teste**\n",
        "\n",
        "## **Conjunto de Treinamento (Training Set):**\n",
        "\n",
        "O conjunto de treinamento é usado para alimentar o modelo de Machine Learning durante o processo de treinamento. Ele contém a maior parte dos dados com os quais o modelo aprende a fazer previsões. O objetivo é que o modelo capture os padrões, as relações e as características nos dados que permitirão fazer previsões precisas no futuro.\n",
        "\n",
        "Os dados do conjunto de treinamento são usados para ajustar os parâmetros internos do modelo, com o objetivo de minimizar o erro entre as previsões do modelo e os valores reais.\n",
        "\n",
        "O conjunto de treinamento é a base do modelo e é fundamental para seu desenvolvimento.\n",
        "\n",
        "## **Conjunto de Validação (Validation Set):**\n",
        "\n",
        "O conjunto de validação é usado principalmente para ajustar hiperparâmetros do modelo. Os hiperparâmetros são configurações que não são aprendidas pelo modelo durante o treinamento.\n",
        "\n",
        "Após o treinamento com o conjunto de treinamento, o modelo é avaliado no conjunto de validação usando diferentes configurações de hiperparâmetros. Isso ajuda a selecionar as configurações que resultam no melhor desempenho em dados não vistos, sem usar o conjunto de teste para esse fim.\n",
        "\n",
        "A separação do conjunto de validação ajuda a evitar o ajuste excessivo dos hiperparâmetros aos dados de teste, o que preserva a integridade da avaliação do modelo.\n",
        "\n",
        "## **Conjunto de Teste (Testing Set)**\n",
        "\n",
        "O conjunto de teste é reservado para avaliar o desempenho do modelo após o treinamento e o ajuste dos hipermarâmetros. Ele consiste em dados que o modelo \"nunca viu\" durante o treinamento. Isso é fundamental para verificar se o modelo é capaz de generalizar e fazer previsões precisas em dados novos e não vistos.\n",
        "\n",
        "Os dados do conjunto de teste são usados para medir métricas de desempenho, como precisão, sensibilidade, especificidade ou erro médio quadrático, dependendo do tipo de problema (classificação, regressão etc.). No caso em questão, utilizado a métrica MAE. Essas métricas ajudam a avaliar quão bem o modelo está fazendo as previsões.\n",
        "\n",
        "A divisão em conjunto de teste ajuda a identificar problemas como overfitting, onde o modelo se ajustou muito aos dados de treinamento, mas não consegue generalizar para novos dados."
      ],
      "metadata": {
        "id": "JrK74O76vJwW"
      }
    },
    {
      "cell_type": "code",
      "source": [
        "X_train, X_temp, y_train, y_temp = train_test_split(X, y, test_size=0.4, random_state=42)\n",
        "X_test, X_val, y_test, y_val = train_test_split(X_temp, y_temp, test_size=0.5, random_state=42)"
      ],
      "metadata": {
        "id": "VZd7gUxH5RtR"
      },
      "execution_count": 458,
      "outputs": []
    },
    {
      "cell_type": "markdown",
      "source": [
        "# **Normalização dos Dados e Data Leakage**\n",
        "\n",
        "## Normalização dos Dados\n",
        "\n",
        "A normalização dos dados é um processo no qual os valores das características (variáveis) em um conjunto de dados são transformados para que tenham uma escala uniforme. Isso geralmente envolve a reescala dos valores das características para que estejam dentro de um intervalo específico. No caso em questão, foi utiizado o StandardScale, uma técnica de normalização que ajusta os dados para que tenham média zero e desvio padrão igual a um.\n",
        "\n",
        "A normalização é importante porque ajuda a garantir que os modelos de Machine Learning sejam treinados e funcionem corretamente. Ela contribui para o desempenho e a convergência dos algoritmos, evita o domínio de características com escalas maiores e melhora a interpretabilidade dos resultados.\n",
        "\n",
        "## Data Leakage (Vazamento de Dados)\n",
        "\n",
        "O data leakage, ou vazamento de dados, ocorre quando informações do conjunto de dados de teste ou validação são de alguma forma incluídas acidentalmente durante o treinamento do modelo. Isso é um erro crítico, pois viola a suposição fundamental de que os dados de teste e validação são independentes dos dados de treinamento.\n",
        "\n",
        "# Importância de Normalizar Conjuntos de Dados Separadamente\n",
        "\n",
        "A importância de normalizar conjuntos de dados separadamente está relacionada à prevenção do vazamento de dados. Quando todos os dados (treinamento, validação e teste) são normalizados usando as estatísticas (média e desvio padrão) calculadas a partir do **conjunto de treinamento**, é garantido que a mesma transformação seja aplicada de maneira consistente a todos os conjuntos. Isso é fundamental para evitar o vazamento de informações dos conjuntos de teste ou validação para o conjunto de treinamento.\n",
        "\n",
        "Se a normalização todos os dados fosse realizada usando as estatísticas dos conjuntos de teste ou validação, haveria uma contaminação dos dados de treinamento com informações dos dados de teste ou validação, o que prejudicaria a validação e tornaria os resultados enganosos. Portanto, a normalização separada é crucial para manter a independência dos conjuntos de dados e garantir a confiabilidade dos resultados de Machine Learning."
      ],
      "metadata": {
        "id": "u1DhbhrKxIim"
      }
    },
    {
      "cell_type": "code",
      "source": [
        "scaler = StandardScaler()\n",
        "X_train = scaler.fit_transform(X_train)\n",
        "X_val = scaler.transform(X_val)\n",
        "X_test = scaler.transform(X_test)\n"
      ],
      "metadata": {
        "id": "smhvq52I5tLi"
      },
      "execution_count": 459,
      "outputs": []
    },
    {
      "cell_type": "markdown",
      "source": [
        "# **Feature Selection com a técnica RFE**\n",
        "\n",
        "A seleção de características, ou Feature Selection, é um processo essencial na construção de modelos de Machine Learning. Ela envolve a escolha das características (variáveis) mais relevantes em um conjunto de dados para a tarefa de modelagem. Entre as diversas técnicas de seleção de características, uma das mais poderosas é a Recursive Feature Elimination (RFE), que é particularmente útil em contextos de Machine Learning.\n",
        "\n",
        "## O que é RFE (Recursive Feature Elimination)?\n",
        "\n",
        "A Recursive Feature Elimination (RFE) é uma técnica de seleção de características que opera de maneira recursiva para identificar as características mais importantes em um conjunto de dados. O processo funciona da seguinte maneira:\n",
        "\n",
        "Um modelo de Machine Learning é treinado no conjunto de dados completo.\n",
        "As características são classificadas de acordo com sua importância ou contribuição para o desempenho do modelo.\n",
        "\n",
        "As características menos importantes são removidas do conjunto de dados.\n",
        "O processo é repetido iterativamente até que o número desejado de características seja alcançado.\n",
        "\n",
        "A RFE geralmente começa com todas as características e, em cada iteração, remove a característica menos importante, avaliando o desempenho do modelo. Esse processo é repetido até que o número especificado de características seja atingido. O modelo final é treinado apenas nas características selecionadas.\n",
        "\n",
        "## Importância da Feature Selection com RFE em Machine Learning\n",
        "\n",
        "A Feature Selection com RFE desempenha um papel fundamental em projetos de Machine Learning por várias razões:\n",
        "\n",
        "Melhora a Generalização: Ao selecionar apenas as características mais importantes, a RFE ajuda a evitar o overfitting, que ocorre quando um modelo se ajusta excessivamente aos dados de treinamento e não generaliza bem para novos dados. Com menos características, o modelo pode capturar os padrões mais significativos.\n",
        "\n",
        "Reduz a Dimensionalidade: Em conjuntos de dados com muitas características, a RFE permite reduzir a dimensionalidade, o que facilita a visualização e a interpretação dos resultados. A alta dimensionalidade pode aumentar a complexidade do modelo e dificultar o treinamento.\n",
        "\n",
        "Economiza Recursos Computacionais: Ao usar apenas um subconjunto de características, a RFE reduz o esforço computacional necessário para treinar e avaliar o modelo. Isso é particularmente importante em conjuntos de dados grandes.\n",
        "\n",
        "Aumenta a Interpretabilidade: Modelos com menos características são mais fáceis de interpretar. Isso é crucial em áreas como a medicina, onde a transparência e a interpretabilidade do modelo são essenciais.\n",
        "\n",
        "Aprimora o Desempenho: A seleção de características com a RFE pode melhorar o desempenho do modelo, concentrando-se nas características mais relevantes para a tarefa.\n",
        "\n"
      ],
      "metadata": {
        "id": "ypmmxCI_zK54"
      }
    },
    {
      "cell_type": "code",
      "source": [
        "# Seleção de Características (Feature Selection) com RFE\n",
        "rf_reg = RandomForestRegressor(random_state=42)\n",
        "rfe = RFE(rf_reg, n_features_to_select=3)\n",
        "rfe.fit(X_train, y_train)\n",
        "X_train_selected = rfe.transform(X_train)\n",
        "X_val_selected = rfe.transform(X_val)\n",
        "X_test_selected = rfe.transform(X_test)"
      ],
      "metadata": {
        "id": "CuuTVLpDzIha"
      },
      "execution_count": 460,
      "outputs": []
    },
    {
      "cell_type": "markdown",
      "source": [
        "**Support Vector Regressor (SVR):**\n",
        "\n",
        "O Support Vector Regressor (SVR) é um algoritmo de aprendizado de máquina que pertence à família das Máquinas de Vetores de Suporte (SVM). O SVR é usado para problemas de regressão, onde o objetivo é prever valores numéricos. Ele opera encontrando uma função que melhor se ajusta aos dados de treinamento, ao mesmo tempo em que minimiza a margem de erro. O SVR é eficaz para lidar com dados não lineares, utilizando funções de kernel para mapear os dados em espaços de alta dimensão.\n",
        "\n",
        "**Random Forest Regressor:**\n",
        "\n",
        "O Random Forest Regressor é um modelo de aprendizado de máquina baseado na técnica de ensemble. Ele utiliza múltiplas árvores de decisão (daí o termo \"floresta\") para fazer previsões de regressão. Cada árvore individual é treinada em uma amostra aleatória dos dados e produz uma previsão. O resultado final do Random Forest Regressor é uma média ou uma combinação ponderada das previsões das árvores individuais. Essa abordagem reduz o overfitting e aumenta a precisão das previsões.\n",
        "\n",
        "**Gradient Boosting Regressor:**\n",
        "\n",
        "O Gradient Boosting Regressor é outro modelo de ensemble, mas funciona de maneira diferente do Random Forest. Ele cria uma sequência de árvores de decisão, onde cada árvore é treinada para corrigir os erros da árvore anterior. Essa abordagem é eficaz em melhorar o desempenho do modelo, pois foca em regiões do espaço de características onde o modelo atual está errado. O Gradient Boosting Regressor é especialmente útil para problemas de regressão com alta precisão.\n",
        "\n",
        "**GridSearchCV:**\n",
        "\n",
        "O GridSearchCV é uma técnica de otimização de hiperparâmetros que ajuda a encontrar a melhor combinação de hiperparâmetros para um modelo. Ele realiza uma pesquisa exaustiva em um espaço de hiperparâmetros definido, treinando e avaliando o modelo para cada combinação. Isso permite ajustar o modelo para obter o melhor desempenho possível.\n",
        "\n",
        "**Ensemble de Modelos:**\n",
        "\n",
        "Ensemble é uma técnica que combina vários modelos individuais para melhorar o desempenho e a robustez das previsões. Pode-se criar ensembles usando diferentes algoritmos de aprendizado de máquina. Um exemplo comum é o ensemble de modelos baseados em árvores, como Random Forest e Gradient Boosting. Nesse caso, os modelos individuais são árvores de decisão e são combinados para produzir previsões mais precisas e estáveis.\n",
        "\n",
        "Ensemble de modelos é uma estratégia poderosa, pois aproveita a diversidade de modelos para superar as fraquezas individuais de cada um. Random Forest, por exemplo, usa múltiplas árvores de decisão para mitigar o overfitting. Gradient Boosting, por sua vez, foca em melhorar o desempenho do modelo ao criar uma sequência de árvores de decisão. O uso de GridSearchCV para otimizar os hiperparâmetros desses modelos em conjunto pode levar a resultados excepcionais, tornando o ensemble uma abordagem valiosa em problemas de regressão e classificação em Machine Learning."
      ],
      "metadata": {
        "id": "XnjzdPeA0evB"
      }
    },
    {
      "cell_type": "code",
      "source": [
        "# Treinamento dos modelos com busca de hiperparâmetros\n",
        "svr_reg = SVR()\n",
        "svr_param_grid = {\n",
        "    'C': [0.1, 1, 10],\n",
        "    'epsilon': [0.01, 0.1, 1]\n",
        "}\n",
        "svr_reg = GridSearchCV(svr_reg, svr_param_grid, cv=5, scoring='neg_mean_squared_error')\n",
        "svr_reg.fit(X_train_selected, y_train)\n",
        "\n",
        "rf_reg = RandomForestRegressor(random_state=42)\n",
        "rf_param_grid = {\n",
        "    'n_estimators': [50, 100, 200],\n",
        "    'max_depth': [5, 10, 20]\n",
        "}\n",
        "rf_reg = GridSearchCV(rf_reg, rf_param_grid, cv=5, scoring='neg_mean_squared_error')\n",
        "rf_reg.fit(X_train_selected, y_train)\n",
        "\n",
        "gb_reg = GradientBoostingRegressor(random_state=42)\n",
        "gb_param_grid = {\n",
        "    'n_estimators': [50, 100, 200],\n",
        "    'max_depth': [3, 4, 5]\n",
        "}\n",
        "gb_reg = GridSearchCV(gb_reg, gb_param_grid, cv=5, scoring='neg_mean_squared_error')\n",
        "gb_reg.fit(X_train_selected, y_train)\n",
        "\n",
        "# Criando o ensemble de modelos\n",
        "ensemble = VotingRegressor(estimators=[\n",
        "    ('svr', svr_reg.best_estimator_),\n",
        "    ('rf', rf_reg.best_estimator_),\n",
        "    ('gb', gb_reg.best_estimator_)\n",
        "])\n",
        "\n",
        "# Treinando o ensemble nos dados de treinamento\n",
        "ensemble.fit(X_train_selected, y_train)\n",
        "\n",
        "# Fazendo previsões nos dados de validação\n",
        "ensemble_predictions_val = ensemble.predict(X_val_selected)\n",
        "ensemble_mae_val = mean_absolute_error(y_val, ensemble_predictions_val)\n",
        "\n",
        "# Fazendo previsões nos dados de teste\n",
        "ensemble_predictions_test = ensemble.predict(X_test_selected)\n",
        "ensemble_mae_test = mean_absolute_error(y_test, ensemble_predictions_test)\n"
      ],
      "metadata": {
        "id": "VDbTHwjqLfUf"
      },
      "execution_count": 461,
      "outputs": []
    },
    {
      "cell_type": "markdown",
      "source": [
        "**O Erro Médio Absoluto (MAE) na Previsão do Número de Casos de Dengue**\n",
        "\n",
        "O Erro Médio Absoluto (MAE) é uma métrica de avaliação amplamente usada em tarefas de previsão. Essa métrica desempenha um papel fundamental na avaliação da eficácia dos modelos de previsão e na medição de quão bem esses modelos se alinham com a realidade.\n",
        "\n",
        "O MAE é uma medida direta da diferença entre as previsões feitas por um modelo e os valores reais observados. É calculado como a média dos valores absolutos dessas diferenças. O MAE tem várias vantagens que o tornam apropriado para prever o número de casos de dengue e para outras aplicações de previsão:\n",
        "\n",
        "**1. Interpretação Intuitiva:** O MAE fornece uma avaliação fácil de interpretar. Ele expressa a média dos erros de previsão em termos da mesma unidade dos dados, no caso, o número de casos de dengue. Portanto, uma diminuição no MAE indica que o modelo está fazendo previsões mais precisas em relação à realidade.\n",
        "\n",
        "**2. Sensibilidade a Erros de Previsão:** O MAE considera erros de previsão em termos de sua magnitude absoluta. Isso significa que ele é sensível a todos os erros, independentemente de serem positivos (previsões superestimadas) ou negativos (previsões subestimadas). Ao usar o MAE, não ignoramos erros que podem ter impactos significativos na saúde pública.\n",
        "\n",
        "**3. Ênfase na Precisão:** Em cenários como a previsão de casos de dengue, a precisão é crucial. Erros de previsão podem levar a respostas ineficazes às epidemias e ao uso inadequado de recursos. O MAE coloca um foco direto na precisão das previsões, ajudando a identificar o desempenho do modelo.\n",
        "\n",
        "**4. Avaliação Justa de Modelos:** O MAE é uma métrica justa e amplamente aceita para avaliar o desempenho de modelos de previsão. Ele fornece uma base sólida para comparar diferentes abordagens de modelagem e para determinar quais modelos são mais adequados para a tarefa de previsão de casos de dengue."
      ],
      "metadata": {
        "id": "ophcE8it2YXN"
      }
    },
    {
      "cell_type": "code",
      "source": [
        "# Resultados nos dados de validação\n",
        "print(\"Resultados no conjunto de validação do Ensemble:\")\n",
        "print(f\"Ensemble - MAE nos dados de validação: {ensemble_mae_val}\")\n",
        "\n",
        "# Resultados nos dados de teste\n",
        "print(\"Resultados no conjunto de teste do Ensemble:\")\n",
        "print(f\"Ensemble - MAE nos dados de teste: {ensemble_mae_test}\")"
      ],
      "metadata": {
        "colab": {
          "base_uri": "https://localhost:8080/"
        },
        "id": "r-JvIFqs3CzI",
        "outputId": "d30864dd-30f3-41cb-8ec3-eaa01342bbe1"
      },
      "execution_count": 462,
      "outputs": [
        {
          "output_type": "stream",
          "name": "stdout",
          "text": [
            "Resultados no conjunto de validação do Ensemble:\n",
            "Ensemble - MAE nos dados de validação: 170.64749611349004\n",
            "Resultados no conjunto de teste do Ensemble:\n",
            "Ensemble - MAE nos dados de teste: 344.3007738321123\n"
          ]
        }
      ]
    },
    {
      "cell_type": "markdown",
      "source": [
        "## **Avaliação dos resultados**\n",
        "\n",
        "**Conjunto de Validação:** O MAE de 170.65 nos dados de validação indica que o modelo Ensemble está produzindo previsões com um erro médio absoluto de aproximadamente 170,65 unidades (casos de dengue) em relação aos valores reais.\n",
        "\n",
        "**Conjunto de Teste:** O MAE de 344.30 nos dados de teste é mais elevado do que o observado no conjunto de validação. Isso indica que o modelo Ensemble pode não estar generalizando tão bem para dados não vistos, o que é uma preocupação. Um MAE mais alto nos dados de teste sugere que as previsões do modelo estão mais distantes dos valores reais e que o modelo pode estar sofrendo de overfitting (ajuste excessivo) aos dados de treinamento."
      ],
      "metadata": {
        "id": "QqxpXWE_30s7"
      }
    },
    {
      "cell_type": "markdown",
      "source": [
        "# **Incorporando a Média Móvel para Melhorar a Previsão**\n",
        "\n",
        "Para aprimorar o desempenho do modelo na previsão de casos de dengue, foi incorporada uma nova variável, que é a \"média móvel de 7 dias\" (ou \"média móvel de 1 semana\"). A média móvel é uma técnica estatística frequentemente utilizada em análises de séries temporais e é particularmente útil para suavizar flutuações de curto prazo e identificar tendências em dados que podem ser ruidosos.\n",
        "\n",
        "A média móvel é calculada tomando-se a média dos valores em um intervalo deslizante de um determinado tamanho. No nosso caso, estamos calculando a média móvel de 7 dias, o que significa que, a cada ponto de tempo, a média é calculada com base nos valores dos 7 dias anteriores, proporcionando uma visão mais suavizada das tendências na série temporal.\n",
        "\n",
        "A partir deste ponto, a análise pode incluir a avaliação do impacto da média móvel na previsão de casos de dengue e a adaptação do modelo para aproveitar essa nova característica suavizada. A média móvel é uma técnica importante em análises de séries temporais e pode contribuir para uma previsão mais precisa e robusta, especialmente quando as tendências são fundamentais para o contexto do problema."
      ],
      "metadata": {
        "id": "k4HnXghjn1r3"
      }
    },
    {
      "cell_type": "code",
      "source": [
        "df['media_movel_7d'] = df['casos-confirmados'].rolling(window=7).mean()"
      ],
      "metadata": {
        "id": "MErgI61loAaY"
      },
      "execution_count": 463,
      "outputs": []
    },
    {
      "cell_type": "code",
      "source": [
        "df = df.fillna(df.mean())"
      ],
      "metadata": {
        "id": "WMbN2PGGoaSW"
      },
      "execution_count": 464,
      "outputs": []
    },
    {
      "cell_type": "code",
      "source": [
        "X = df.drop('casos-confirmados', axis=1)\n",
        "y = df['casos-confirmados']"
      ],
      "metadata": {
        "id": "Mc4UJqT7oBhc"
      },
      "execution_count": 465,
      "outputs": []
    },
    {
      "cell_type": "code",
      "source": [
        "X_train, X_temp, y_train, y_temp = train_test_split(X, y, test_size=0.4, random_state=42)\n",
        "X_test, X_val, y_test, y_val = train_test_split(X_temp, y_temp, test_size=0.5, random_state=42)"
      ],
      "metadata": {
        "id": "JPKJN7HmoMZc"
      },
      "execution_count": 466,
      "outputs": []
    },
    {
      "cell_type": "code",
      "source": [
        "scaler = StandardScaler()\n",
        "X_train = scaler.fit_transform(X_train)\n",
        "X_val = scaler.transform(X_val)\n",
        "X_test = scaler.transform(X_test)"
      ],
      "metadata": {
        "id": "_NV2UfFaoQJG"
      },
      "execution_count": 467,
      "outputs": []
    },
    {
      "cell_type": "code",
      "source": [
        "# Seleção de Características (Feature Selection) com RFE\n",
        "rf_reg = RandomForestRegressor(random_state=42)\n",
        "rfe = RFE(rf_reg, n_features_to_select=3)\n",
        "rfe.fit(X_train, y_train)\n",
        "X_train_selected = rfe.transform(X_train)\n",
        "X_val_selected = rfe.transform(X_val)\n",
        "X_test_selected = rfe.transform(X_test)\n",
        "\n",
        "# Treinamento dos modelos com busca de hiperparâmetros\n",
        "svr_reg = SVR()\n",
        "svr_param_grid = {\n",
        "    'C': [0.1, 1, 10],\n",
        "    'epsilon': [0.01, 0.1, 1]\n",
        "}\n",
        "svr_reg = GridSearchCV(svr_reg, svr_param_grid, cv=5, scoring='neg_mean_squared_error')\n",
        "svr_reg.fit(X_train_selected, y_train)\n",
        "\n",
        "rf_reg = RandomForestRegressor(random_state=42)\n",
        "rf_param_grid = {\n",
        "    'n_estimators': [50, 100, 200],\n",
        "    'max_depth': [5, 10, 20]\n",
        "}\n",
        "rf_reg = GridSearchCV(rf_reg, rf_param_grid, cv=5, scoring='neg_mean_squared_error')\n",
        "rf_reg.fit(X_train_selected, y_train)\n",
        "\n",
        "gb_reg = GradientBoostingRegressor(random_state=42)\n",
        "gb_param_grid = {\n",
        "    'n_estimators': [50, 100, 200],\n",
        "    'max_depth': [3, 4, 5]\n",
        "}\n",
        "gb_reg = GridSearchCV(gb_reg, gb_param_grid, cv=5, scoring='neg_mean_squared_error')\n",
        "gb_reg.fit(X_train_selected, y_train)\n",
        "\n",
        "# Criando o ensemble de modelos\n",
        "ensemble = VotingRegressor(estimators=[\n",
        "    ('svr', svr_reg.best_estimator_),\n",
        "    ('rf', rf_reg.best_estimator_),\n",
        "    ('gb', gb_reg.best_estimator_)\n",
        "])\n",
        "\n",
        "# Treinando o ensemble nos dados de treinamento\n",
        "ensemble.fit(X_train_selected, y_train)\n",
        "\n",
        "# Fazendo previsões nos dados de validação\n",
        "ensemble_predictions_val = ensemble.predict(X_val_selected)\n",
        "ensemble_mae_val = mean_absolute_error(y_val, ensemble_predictions_val)\n",
        "\n",
        "# Fazendo previsões nos dados de teste\n",
        "ensemble_predictions_test = ensemble.predict(X_test_selected)\n",
        "ensemble_mae_test = mean_absolute_error(y_test, ensemble_predictions_test)\n",
        "\n",
        "# Resultados nos dados de validação\n",
        "print(\"Resultados no conjunto de validação do Ensemble:\")\n",
        "print(f\"Ensemble - MAE nos dados de validação: {ensemble_mae_val}\")\n",
        "\n",
        "# Resultados nos dados de teste\n",
        "print(\"Resultados no conjunto de teste do Ensemble:\")\n",
        "print(f\"Ensemble - MAE nos dados de teste: {ensemble_mae_test}\")\n"
      ],
      "metadata": {
        "colab": {
          "base_uri": "https://localhost:8080/"
        },
        "id": "wa-A_5DCoSm2",
        "outputId": "bb8320cf-bd53-43e8-a60c-fa9eeb101c69"
      },
      "execution_count": 468,
      "outputs": [
        {
          "output_type": "stream",
          "name": "stdout",
          "text": [
            "Resultados no conjunto de validação do Ensemble:\n",
            "Ensemble - MAE nos dados de validação: 36.945541549116534\n",
            "Resultados no conjunto de teste do Ensemble:\n",
            "Ensemble - MAE nos dados de teste: 134.32439899390178\n"
          ]
        }
      ]
    },
    {
      "cell_type": "markdown",
      "source": [
        "## **Resultados**\n",
        "\n",
        "Os resultados obtidos na previsão do número de casos de dengue demonstram um progresso notável em relação ao resultado anterior. Neste último conjunto de avaliações, o modelo Ensemble apresentou os seguintes resultados:\n",
        "\n",
        "No Conjunto de Validação:\n",
        "\n",
        "Ensemble - MAE nos dados de validação: 36.95\n",
        "\n",
        "No Conjunto de Teste:\n",
        "\n",
        "Ensemble - MAE nos dados de teste: 134.32\n",
        "\n",
        "Comparando esses resultados com o conjunto anterior, fica evidente uma melhoria significativa no desempenho do modelo. A incorporação da média móvel na análise parece ter tido um impacto positivo nas previsões. Essa melhoria é indicada pelo MAE menor, o que significa que o modelo está cometendo erros menores em suas previsões.\n",
        "\n",
        "No entanto, é importante observar que os resultados ainda precisam ser melhorados e a quantidade de dados desempenha um papel fundamental na capacidade do modelo de aprender e generalizar padrões. O conjunto de dados em questão consiste em 204 linhas e 9 colunas, o que é relativamente pequeno em termos de dados de treinamento. A incorporação da média móvel pode ter ajudado a compensar a limitação de dados, fornecendo informações adicionais e tendências suavizadas.\n",
        "\n",
        "Isso levanta a questão da importância de ter mais dados para melhorar o modelo de previsão. O aumento no tamanho do conjunto de dados pode oferecer diversas vantagens:\n",
        "\n",
        "**Melhor Captura de Padrões:** Com mais dados, o modelo tem mais exemplos para aprender e, portanto, pode capturar melhor os padrões e tendências subjacentes nos dados.\n",
        "\n",
        "**Maior Robustez:** Modelos treinados em conjuntos de dados maiores tendem a ser mais robustos e a generalizar melhor para novos dados, reduzindo o risco de overfitting.\n",
        "\n",
        "**Melhores Previsões:** Uma maior quantidade de dados permite que o modelo faça previsões mais precisas e confiáveis, resultando em métricas de avaliação, como o MAE, mais baixas.\n",
        "\n",
        "Portanto, embora tenha havido uma melhoria notável nos resultados com a introdução da média móvel, é importante reconhecer que o aumento na quantidade de dados, quando possível, pode continuar a impulsionar o desempenho do modelo de previsão, tornando-o mais preciso e robusto. Dessa forma, ao lidar com problemas de previsão, sempre se deve buscar a disponibilidade de mais dados, pois isso pode ser um fator-chave para alcançar previsões ainda mais precisas e confiáveis."
      ],
      "metadata": {
        "id": "rGVT7Yvh6rKS"
      }
    },
    {
      "cell_type": "markdown",
      "source": [
        "# **Conclusão**\n",
        "\n",
        "Nesta análise de previsão de casos de dengue, foi exporada a importância de técnicas de Aprendizado de Máquina e a influência da quantidade de dados disponíveis. Uma abordagem inicial resultou em métricas de Erro Médio Absoluto (MAE) relativamente mais altas. No entanto, com a introdução da média móvel de 7 dias, foi observado uma melhoria significativa nas previsões.\n",
        "\n",
        "Foi verificado que a média móvel é uma potencial técnica valiosa para suavizar variações de curto prazo e identificar tendências em séries temporais. Isso destacou a importância de considerar a engenharia de características e a influência das características escolhidas no desempenho do modelo.\n",
        "\n",
        "Além disso, foi enfatizada a importância de ter mais dados à disposição para treinar modelos de previsão. Um conjunto de dados maior não apenas permite que o modelo capture melhor os padrões, mas também aumenta sua robustez e capacidade de generalização.\n",
        "\n",
        "Há também, no entanto, algumas limitações. A disponibilidade de dados é muitas vezes uma restrição em aplicações do mundo real. Além disso, a qualidade dos dados, a necessidade de recursos de computação e a interpretabilidade do modelo são fatores a serem considerados.\n",
        "\n",
        "Os próximos passos podem incluir:\n",
        "\n",
        "* **Coleta de Dados Adicionais:** Buscar e incorporar mais dados de qualidade para treinar o modelo, levando em consideração variáveis relevantes para a previsão de casos de dengue.\n",
        "\n",
        "* **Engenharia de Características Avançada:** Explorar técnicas mais avançadas de engenharia de características, como lags, transformações temporais e dados contextuais, para aprimorar a representação das informações.\n",
        "\n",
        "* **Otimização de Hiperparâmetros:** Ajustar os hiperparâmetros do modelo para encontrar a combinação ideal que resulta em previsões mais precisas.\n",
        "\n",
        "* **Interpretação do Modelo:** Investigar a interpretabilidade do modelo para que as previsões sejam compreensíveis e confiáveis para tomadores de decisão na área de Saúde Pública.\n",
        "\n",
        "* **Implementação nae Saúde Pública:** Promover a adoção de soluções baseadas em Machine Learning na Saúde Pública, ajudando na alocação de recursos e na resposta a surtos de doenças.\n",
        "\n",
        "A aplicação de técnicas de Machine Learning na Saúde Pública oferece um potencial significativo para aprimorar a eficiência e a eficácia dos sistemas de saúde. Abaixo estão detalhes de como essa abordagem pode impactar positivamente a área da saúde pública:\n",
        "\n",
        "* **Previsão de Surto de Doenças:** A capacidade de prever surtos de doenças, como a dengue, é de extrema importância. Com a análise de dados históricos e as técnicas de previsão, os órgãos de saúde pública podem antecipar e se preparar para responder a surtos, alocando recursos de forma mais eficaz e implementando medidas preventivas.\n",
        "\n",
        "* **Alocação de Recursos com Precisão:** O uso de Machine Learning permite uma alocação mais precisa de recursos, como pessoal médico, vacinas, medicamentos e leitos de hospital. Isso significa que os recursos são direcionados para as áreas e populações que mais precisam de atenção, reduzindo o desperdício e melhorando o atendimento.\n",
        "\n",
        "* **Tomada de Decisão Baseada em Dados:** Tomadores de decisão na área da Saúde Pública podem se beneficiar de modelos de Machine Learning que fornecem insights baseados em dados. Essas informações podem guiar políticas de saúde, estratégias de prevenção e intervenções, tornando as decisões mais embasadas e eficazes.\n",
        "\n",
        "* **Rastreamento de Doenças:** O rastreamento de doenças é aprimorado por meio de técnicas de Aprendizado de Máquina. Isso permite o monitoramento em tempo real de doenças, identificando padrões de propagação e auxiliando na contenção de surtos.\n",
        "\n",
        "* **Detecção de Anomalias:** Machine Learning pode identificar anomalias nos dados de saúde, o que é fundamental para detectar surtos de doenças raras e emergentes, permitindo respostas rápidas e a contenção da disseminação.\n",
        "\n",
        "No entanto, é importante reconhecer que a implementação de Machine Learning na Saúde Pública também apresenta desafios. A qualidade e a privacidade dos dados são questões críticas, bem como a necessidade de modelos interpretáveis para que os profissionais de saúde possam confiar nas previsões. Além disso, a acessibilidade aos recursos de Machine Learning e a capacitação de pessoal são preocupações a serem abordadas.\n",
        "\n",
        "No geral, o potencial de Machine Learning na saúde pública é imenso. Com mais investimento em pesquisa, desenvolvimento e integração de técnicas avançadas, a área de saúde pública pode aproveitar ao máximo o poder dos dados para melhorar a prevenção, a resposta a surtos de doenças e a qualidade geral do atendimento à saúde. Essa abordagem representa um salto significativo na eficiência e eficácia dos sistemas de saúde, beneficiando a sociedade como um todo. Portanto, promover essa aplicação é uma prioridade para um futuro mais saudável e resiliente."
      ],
      "metadata": {
        "id": "kHNrRbaP8WvF"
      }
    }
  ]
}